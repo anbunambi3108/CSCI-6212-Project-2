{
 "cells": [
  {
   "cell_type": "markdown",
   "id": "f5628440",
   "metadata": {},
   "source": [
    "## Option 6: Finding Max Number in Circular Shifted Array\n",
    "We are given an array A[1..n] of sorted integers that has been circularly shifted some positions to the right. \n",
    "- For example, [35, 42, 5, 15, 27, 29] is a sorted array that has been\n",
    "circularly shifted 2 positions, while [27, 29, 35, 42, 5, 15] has been shifted 4 positions.\n",
    "- We can obviously find the largest element in A in O(n) time. \n",
    "- Describe an O(log n) algorithm."
   ]
  },
  {
   "cell_type": "code",
   "execution_count": 1,
   "id": "ad9fdabd",
   "metadata": {},
   "outputs": [],
   "source": [
    "#libraries:\n",
    "import random\n",
    "import time"
   ]
  },
  {
   "cell_type": "code",
   "execution_count": 2,
   "id": "b35d3989",
   "metadata": {},
   "outputs": [
    {
     "name": "stdout",
     "output_type": "stream",
     "text": [
      "Circular Shifted Sorted Array:\n",
      "[3086, 3892, 3902, 4322, 5269, 5657, 6923, 299, 1272, 1502]\n"
     ]
    }
   ],
   "source": [
    "# CODE FOR GENERATING CIRCULAR SHIFTERD ARRAY:\n",
    "def generate_circular_shifted_array(size):\n",
    "    # Generates a sorted array of random numbers\n",
    "    original_array = [random.randint(1, 10000) for _ in range(size)]\n",
    "    original_array.sort()\n",
    "    # Chooses a random shift position\n",
    "    shift_position = random.randint(0, size - 1)\n",
    "    # Performs circular shift to create the shifted array\n",
    "    shifted_array = original_array[shift_position:] + original_array[:shift_position]\n",
    "    return shifted_array\n",
    "\n",
    "# Size of the circular shifted array susch as 10,100,1000,10000,100000\n",
    "array_size = 10\n",
    "# Generates a circular shifted array\n",
    "shiftedArray = generate_circular_shifted_array(array_size)\n",
    "\n",
    "# Prints the circular shifted array\n",
    "print(\"Circular Shifted Sorted Array:\")\n",
    "print(shiftedArray)"
   ]
  },
  {
   "cell_type": "raw",
   "id": "08dd0534",
   "metadata": {},
   "source": [
    "Variable names:\n",
    "    - high: last value in that array on the right side\n",
    "    - low: first value in the array on the left side\n",
    "    - middle+1: the next element to the middle element \n",
    "    - middle-1: the previous element to the middle element"
   ]
  },
  {
   "cell_type": "code",
   "execution_count": 3,
   "id": "b80c6393",
   "metadata": {},
   "outputs": [],
   "source": [
    "# CODE FOR FINDING MAXIMUM NUMBER IN CIRCULAR SHIFTED ARRAY:\n",
    "start=time.time_ns()#computes the start time\n",
    "def findMaxNumber(array,low,high):\n",
    "    #case:1 If there is only one element in the array\n",
    "    if(high==low): \n",
    "        return array[low]\n",
    "    middle=(low+high)//2 \n",
    "    #case:2 If the middle element is greater than previous element and next element\n",
    "    if(array[middle]>array[middle-1] and array[middle] > array[middle+1]): \n",
    "        return array[middle]\n",
    "    #case:3 If middle element is in 0th position and it is greater then the next element\n",
    "    if(middle==0):\n",
    "        if(array[middle]>array[middle+1]): \n",
    "            return array[middle]\n",
    "    # deciding the direction     \n",
    "    if(array[middle]<array[low]): #if the middle element less than low element\n",
    "        return findMaxNumber(shiftedArray,low,middle-1) #goes to left half of the array\n",
    "    else:\n",
    "         return findMaxNumber(shiftedArray,middle+1,high) #goes to the right half of the array"
   ]
  },
  {
   "cell_type": "code",
   "execution_count": 4,
   "id": "4cda68ba",
   "metadata": {},
   "outputs": [
    {
     "name": "stdout",
     "output_type": "stream",
     "text": [
      "Maximum Number in Circular Shifted Array:  6923\n",
      "Total time taken : 4600000 ns\n"
     ]
    }
   ],
   "source": [
    "#Printing Result:\n",
    "print(\"Maximum Number in Circular Shifted Array: \",findMaxNumber(shiftedArray,0,len(shiftedArray)-1))\n",
    "end=time.time_ns()#computes the end time\n",
    "TimeTaken=end-start#computes the total time\n",
    "print(\"Total time taken :\",TimeTaken,\"ns\")"
   ]
  }
 ],
 "metadata": {
  "kernelspec": {
   "display_name": "Python 3 (ipykernel)",
   "language": "python",
   "name": "python3"
  },
  "language_info": {
   "codemirror_mode": {
    "name": "ipython",
    "version": 3
   },
   "file_extension": ".py",
   "mimetype": "text/x-python",
   "name": "python",
   "nbconvert_exporter": "python",
   "pygments_lexer": "ipython3",
   "version": "3.9.16"
  }
 },
 "nbformat": 4,
 "nbformat_minor": 5
}
